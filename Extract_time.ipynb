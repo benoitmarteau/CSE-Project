{
 "cells": [
  {
   "cell_type": "code",
   "execution_count": 1,
   "metadata": {},
   "outputs": [],
   "source": [
    "import os\n",
    "import json\n",
    "import pandas\n",
    "import csv\n",
    "import pycountry"
   ]
  },
  {
   "cell_type": "markdown",
   "metadata": {},
   "source": [
    "### The dataset\n",
    "\n",
    "Each drawing from the ndjson file are in the format of line of json. We will therefore read line by line the ndjson file. Each json has a \"drawing\" array taht represent the strokes of the drawing.\n",
    "Each of the drawing array is as following format: \n",
    "\n",
    "```python\n",
    "[ \n",
    "  [  // First stroke \n",
    "    [x0, x1, x2, x3, ...],\n",
    "    [y0, y1, y2, y3, ...],\n",
    "    [t0, t1, t2, t3, ...]\n",
    "  ],\n",
    "  [  // Second stroke\n",
    "    [x0, x1, x2, x3, ...],\n",
    "    [y0, y1, y2, y3, ...],\n",
    "    [t0, t1, t2, t3, ...]\n",
    "  ],\n",
    "  ... // Additional strokes\n",
    "]\n",
    "```\n",
    "\n",
    "The time is in milliseconds"
   ]
  },
  {
   "cell_type": "code",
   "execution_count": 2,
   "metadata": {},
   "outputs": [],
   "source": [
    "# Get the time of the first and last point in a stroke (not drawing)\n",
    "def time_first_point(stroke):\n",
    "    return stroke[2][0]\n",
    "\n",
    "def time_last_point(stroke):\n",
    "    return stroke[2][-1]\n",
    "\n",
    "def time_stroke(stroke):\n",
    "    return time_last_point(stroke) - time_first_point(stroke)\n",
    "\n",
    "def pause_time(drawing, stroke, stroke_index):\n",
    "    if (stroke_index == 0):\n",
    "        return 0\n",
    "    prev_stroke = drawing['drawing'][stroke_index - 1]\n",
    "    return time_first_point(stroke) - time_last_point(prev_stroke)\n",
    "\n",
    "def gen_stats_stroke(drawing, stroke, stroke_index):\n",
    "    stats = {\n",
    "        \"stroke_index\": stroke_index,\n",
    "        \"stroke_time\": time_stroke(stroke),\n",
    "        \"stroke_time_first\": time_first_point(stroke),\n",
    "        \"stroke_time_last\": time_last_point(stroke),\n",
    "        \"stroke_time_pause\": pause_time(drawing, stroke, stroke_index)\n",
    "    }\n",
    "    \n",
    "    return stats\n",
    "\n",
    "def get_country_name(country_code):\n",
    "    country_class = pycountry.countries.get(alpha_2=country_code)\n",
    "    try:\n",
    "        if country_code == 'TW':\n",
    "            country_name = 'Taiwan'\n",
    "        else:\n",
    "            country_name = country_class.name\n",
    "    except:\n",
    "        country_name = country_code\n",
    "    return country_name\n",
    "\n",
    "def gen_stats(drawing):\n",
    "    first_stroke = drawing['drawing'][0]\n",
    "    last_stroke = drawing['drawing'][-1]\n",
    "    \n",
    "    stats = {\n",
    "        \"key_id\": drawing['key_id'],\n",
    "        \"recognized\": drawing['recognized'],\n",
    "        \"word\": drawing['word'],\n",
    "        \"stroke_count\": len(drawing['drawing']),\n",
    "        \"countrycode\": get_country_name(drawing['countrycode']),\n",
    "        \"drawing_time_total\": time_last_point(last_stroke) - time_first_point(first_stroke)\n",
    "    }\n",
    "    strokes = []\n",
    "    \n",
    "    for idx, stroke in enumerate(drawing['drawing']):\n",
    "        strokes.append(gen_stats_stroke(drawing, stroke, idx))\n",
    "    pause_times = [s['stroke_time_pause'] for s in strokes]\n",
    "    stats['drawing_time_pause'] = sum(pause_times)\n",
    "    stroke_times = [s['stroke_time'] for s in strokes]\n",
    "    stats['drawing_time_draw'] = sum(stroke_times)\n",
    "    \n",
    "    return stats"
   ]
  },
  {
   "cell_type": "code",
   "execution_count": 3,
   "metadata": {},
   "outputs": [],
   "source": [
    "RAW_ROOT = \"./data/full_raw_\"\n",
    "PROCESS_ROOT = \"./processed_data/time_per_\"\n",
    "draw_ids = ['dog']"
   ]
  },
  {
   "cell_type": "code",
   "execution_count": 4,
   "metadata": {},
   "outputs": [],
   "source": [
    "def save_stats(drawing_name, filename):\n",
    "    stats = []\n",
    "    with open(filename) as f:\n",
    "        for line in f:\n",
    "            drawing = json.loads(line)\n",
    "            drawing_stats = gen_stats(drawing)\n",
    "            stats.append(drawing_stats)\n",
    "    with open(PROCESS_ROOT + drawing_name + '_stats.csv', 'w') as f:\n",
    "        w = csv.DictWriter(f, stats[0].keys())\n",
    "        w.writeheader()\n",
    "        w.writerows(stats)"
   ]
  },
  {
   "cell_type": "code",
   "execution_count": 5,
   "metadata": {},
   "outputs": [
    {
     "name": "stdout",
     "output_type": "stream",
     "text": [
      "circle\n"
     ]
    }
   ],
   "source": [
    "draw_ids = ['square','triangle']\n",
    "#draw_id = 'cat'\n",
    "for draw_id in draw_ids:\n",
    "    print(draw_id)\n",
    "\n",
    "    filename = RAW_ROOT + draw_id + \".ndjson\"\n",
    "    save_stats(draw_id, filename)"
   ]
  },
  {
   "cell_type": "code",
   "execution_count": null,
   "metadata": {},
   "outputs": [],
   "source": []
  }
 ],
 "metadata": {
  "kernelspec": {
   "display_name": "Python 3",
   "language": "python",
   "name": "python3"
  },
  "language_info": {
   "codemirror_mode": {
    "name": "ipython",
    "version": 3
   },
   "file_extension": ".py",
   "mimetype": "text/x-python",
   "name": "python",
   "nbconvert_exporter": "python",
   "pygments_lexer": "ipython3",
   "version": "3.7.1"
  }
 },
 "nbformat": 4,
 "nbformat_minor": 2
}
