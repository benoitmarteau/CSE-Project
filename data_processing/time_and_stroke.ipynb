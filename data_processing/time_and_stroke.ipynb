{
 "cells": [
  {
   "cell_type": "code",
   "execution_count": 1,
   "metadata": {},
   "outputs": [],
   "source": [
    "import os\n",
    "import glob\n",
    "import subprocess\n",
    "import pandas as pd"
   ]
  },
  {
   "cell_type": "code",
   "execution_count": 2,
   "metadata": {},
   "outputs": [],
   "source": [
    "DATA_ROOT = \"../data/\"\n",
    "SAVE_ROOT = \"../processed_data/\""
   ]
  },
  {
   "cell_type": "code",
   "execution_count": 3,
   "metadata": {},
   "outputs": [],
   "source": [
    "def get_raw_list():\n",
    "    paths = []\n",
    "    file_path = SAVE_ROOT + \"list_category_8.txt\"\n",
    "    with open(file_path, 'r') as f:\n",
    "        paths = f.readlines()\n",
    "    return paths"
   ]
  },
  {
   "cell_type": "code",
   "execution_count": 4,
   "metadata": {},
   "outputs": [],
   "source": [
    "list_category = get_raw_list()"
   ]
  },
  {
   "cell_type": "code",
   "execution_count": 5,
   "metadata": {},
   "outputs": [],
   "source": [
    "# filename the input file\n",
    "def read_file(filename):\n",
    "    df_raw = pd.read_csv(filename)\n",
    "    # Select column we want\n",
    "    df = df_raw.loc[:,['stroke_count','countrycode','drawing_time_total']]\n",
    "    # Change millisec to sec\n",
    "    df['drawing_time_total'] = df['drawing_time_total'].div(1000)\n",
    "    # Change name of column\n",
    "    df.columns = ['stroke_count','country','drawing_time']\n",
    "    # Add count per country\n",
    "    df['count'] = 1\n",
    "    # Round number\n",
    "    df = df.groupby('country').agg({'stroke_count': 'mean', 'drawing_time':'mean', 'count':'sum'}).round({'stroke_count':1,'drawing_time':2})\n",
    "    # Reset index to column for csv file\n",
    "    df.reset_index(level=0, inplace=True)\n",
    "    # Count number of occurences by country\n",
    "    df['word'] = df_raw['word'][0]\n",
    "    return df"
   ]
  },
  {
   "cell_type": "code",
   "execution_count": 6,
   "metadata": {},
   "outputs": [],
   "source": [
    "frames = []\n",
    "for path in list_category:\n",
    "    raw_id = 'time_per_' + path.split('/')[-1].strip().replace(' ', '_') + '_stats.csv'\n",
    "    local_path = os.path.join(DATA_ROOT, raw_id)\n",
    "    df = read_file(local_path)\n",
    "    frames.append(df)"
   ]
  },
  {
   "cell_type": "code",
   "execution_count": 7,
   "metadata": {},
   "outputs": [],
   "source": [
    "df_concat = pd.concat(frames, axis=0)"
   ]
  },
  {
   "cell_type": "code",
   "execution_count": 8,
   "metadata": {},
   "outputs": [],
   "source": [
    "df_concat.to_csv(SAVE_ROOT + 'time_and_stroke.csv')"
   ]
  }
 ],
 "metadata": {
  "kernelspec": {
   "display_name": "Python 3",
   "language": "python",
   "name": "python3"
  },
  "language_info": {
   "codemirror_mode": {
    "name": "ipython",
    "version": 3
   },
   "file_extension": ".py",
   "mimetype": "text/x-python",
   "name": "python",
   "nbconvert_exporter": "python",
   "pygments_lexer": "ipython3",
   "version": "3.7.1"
  }
 },
 "nbformat": 4,
 "nbformat_minor": 2
}
