{
 "cells": [
  {
   "cell_type": "code",
   "execution_count": 1,
   "metadata": {},
   "outputs": [],
   "source": [
    "import os\n",
    "import glob\n",
    "import subprocess"
   ]
  },
  {
   "cell_type": "code",
   "execution_count": 2,
   "metadata": {},
   "outputs": [],
   "source": [
    "DATA_ROOT = \"../data/\""
   ]
  },
  {
   "cell_type": "code",
   "execution_count": 3,
   "metadata": {},
   "outputs": [],
   "source": [
    "def get_raw_list(file_path):\n",
    "    paths = []\n",
    "    with open(file_path, 'r') as f:\n",
    "        paths = f.readlines()\n",
    "    return paths"
   ]
  },
  {
   "cell_type": "code",
   "execution_count": 4,
   "metadata": {},
   "outputs": [],
   "source": [
    "list_category = get_raw_list(\"../processed_data/list_category_8.txt\")"
   ]
  },
  {
   "cell_type": "code",
   "execution_count": 5,
   "metadata": {},
   "outputs": [],
   "source": [
    "def download_raw(file_id, dest_dir):\n",
    "    gsutil_command = 'gsutil cp gs://quickdraw_dataset/full/simplified/' + file_id.replace(' ', '\\ ') + '.ndjson' + ' ' + dest_dir\n",
    "    print(gsutil_command)\n",
    "    process = subprocess.Popen(gsutil_command, shell=True, stdout=subprocess.PIPE)\n",
    "    stdout, stderr = process.communicate()\n",
    "    print(stdout)"
   ]
  },
  {
   "cell_type": "code",
   "execution_count": 6,
   "metadata": {},
   "outputs": [
    {
     "name": "stdout",
     "output_type": "stream",
     "text": [
      "gsutil cp gs://quickdraw_dataset/full/simplified/traffic\\ light.ndjson ../data/simplified_traffic_light.ndjson\n",
      "b''\n",
      "gsutil cp gs://quickdraw_dataset/full/simplified/power\\ outlet.ndjson ../data/simplified_power_outlet.ndjson\n",
      "b''\n"
     ]
    }
   ],
   "source": [
    "for path in list_category:\n",
    "    raw_id = path.split('/')[-1].strip()\n",
    "    local_path = os.path.join(DATA_ROOT, raw_id)\n",
    "    if (os.path.isfile(os.path.join(DATA_ROOT, 'simplified_'+ raw_id + '.ndjson'))):\n",
    "        #print('skipping ' + raw_id)\n",
    "        pass\n",
    "    else:\n",
    "        download_raw(raw_id, DATA_ROOT+'simplified_'+ raw_id.replace(' ', '_') + '.ndjson')"
   ]
  },
  {
   "cell_type": "code",
   "execution_count": null,
   "metadata": {},
   "outputs": [],
   "source": []
  }
 ],
 "metadata": {
  "kernelspec": {
   "display_name": "Python 3",
   "language": "python",
   "name": "python3"
  },
  "language_info": {
   "codemirror_mode": {
    "name": "ipython",
    "version": 3
   },
   "file_extension": ".py",
   "mimetype": "text/x-python",
   "name": "python",
   "nbconvert_exporter": "python",
   "pygments_lexer": "ipython3",
   "version": "3.7.1"
  }
 },
 "nbformat": 4,
 "nbformat_minor": 2
}
